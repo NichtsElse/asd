{
  "cells": [
    {
      "cell_type": "markdown",
      "metadata": {
        "id": "tLLLopyLmOxU"
      },
      "source": [
        "### Importing libraries & functions\n",
        "\n",
        "\n",
        "\n"
      ]
    },
    {
      "cell_type": "code",
      "execution_count": 1,
      "metadata": {
        "id": "Z0zpJk7CmHiH"
      },
      "outputs": [],
      "source": [
        "import pandas as pd\n",
        "import numpy as np\n",
        "from sklearn.preprocessing import OneHotEncoder\n",
        "from sklearn.model_selection import train_test_split\n",
        "from sklearn.preprocessing import StandardScaler\n",
        "from sklearn.metrics import confusion_matrix, accuracy_score, mean_squared_error, r2_score\n",
        "from sklearn.linear_model import LogisticRegression\n"
      ]
    },
    {
      "cell_type": "markdown",
      "metadata": {
        "id": "d3KLBB_ajJPf"
      },
      "source": [
        "### Importing dataset"
      ]
    },
    {
      "cell_type": "code",
      "execution_count": null,
      "metadata": {
        "colab": {
          "base_uri": "https://localhost:8080/"
        },
        "id": "Jt3V_IVhj16o",
        "outputId": "625eab2d-83b3-4b7b-d05c-c97e33c99341"
      },
      "outputs": [],
      "source": []
    },
    {
      "cell_type": "code",
      "execution_count": 2,
      "metadata": {
        "id": "a5BrHGMEjyL5"
      },
      "outputs": [],
      "source": [
        "dataset=pd.read_csv(\"../Downloads/home-credit-default-risk/application_train.csv\")"
      ]
    },
    {
      "cell_type": "markdown",
      "metadata": {
        "id": "BKEq_6x1mYTL"
      },
      "source": [
        "### Data preparation"
      ]
    },
    {
      "cell_type": "code",
      "execution_count": 3,
      "metadata": {
        "colab": {
          "base_uri": "https://localhost:8080/"
        },
        "id": "9V3vK-KsjeEY",
        "outputId": "109c4a65-39ef-4500-a626-24dfceb58b63"
      },
      "outputs": [
        {
          "data": {
            "text/plain": [
              "(307511, 122)"
            ]
          },
          "execution_count": 3,
          "metadata": {},
          "output_type": "execute_result"
        }
      ],
      "source": [
        "\n",
        "dataset.shape"
      ]
    },
    {
      "cell_type": "code",
      "execution_count": 4,
      "metadata": {
        "colab": {
          "base_uri": "https://localhost:8080/",
          "height": 299
        },
        "id": "82u-muk25Ahf",
        "outputId": "535d861d-c0b6-4324-8b48-22739bcd9794"
      },
      "outputs": [
        {
          "data": {
            "text/html": [
              "<div>\n",
              "<style scoped>\n",
              "    .dataframe tbody tr th:only-of-type {\n",
              "        vertical-align: middle;\n",
              "    }\n",
              "\n",
              "    .dataframe tbody tr th {\n",
              "        vertical-align: top;\n",
              "    }\n",
              "\n",
              "    .dataframe thead th {\n",
              "        text-align: right;\n",
              "    }\n",
              "</style>\n",
              "<table border=\"1\" class=\"dataframe\">\n",
              "  <thead>\n",
              "    <tr style=\"text-align: right;\">\n",
              "      <th></th>\n",
              "      <th>SK_ID_CURR</th>\n",
              "      <th>TARGET</th>\n",
              "      <th>NAME_CONTRACT_TYPE</th>\n",
              "      <th>CODE_GENDER</th>\n",
              "      <th>FLAG_OWN_CAR</th>\n",
              "      <th>FLAG_OWN_REALTY</th>\n",
              "      <th>CNT_CHILDREN</th>\n",
              "      <th>AMT_INCOME_TOTAL</th>\n",
              "      <th>AMT_CREDIT</th>\n",
              "      <th>AMT_ANNUITY</th>\n",
              "      <th>...</th>\n",
              "      <th>FLAG_DOCUMENT_18</th>\n",
              "      <th>FLAG_DOCUMENT_19</th>\n",
              "      <th>FLAG_DOCUMENT_20</th>\n",
              "      <th>FLAG_DOCUMENT_21</th>\n",
              "      <th>AMT_REQ_CREDIT_BUREAU_HOUR</th>\n",
              "      <th>AMT_REQ_CREDIT_BUREAU_DAY</th>\n",
              "      <th>AMT_REQ_CREDIT_BUREAU_WEEK</th>\n",
              "      <th>AMT_REQ_CREDIT_BUREAU_MON</th>\n",
              "      <th>AMT_REQ_CREDIT_BUREAU_QRT</th>\n",
              "      <th>AMT_REQ_CREDIT_BUREAU_YEAR</th>\n",
              "    </tr>\n",
              "  </thead>\n",
              "  <tbody>\n",
              "    <tr>\n",
              "      <th>0</th>\n",
              "      <td>100002</td>\n",
              "      <td>1</td>\n",
              "      <td>Cash loans</td>\n",
              "      <td>M</td>\n",
              "      <td>N</td>\n",
              "      <td>Y</td>\n",
              "      <td>0</td>\n",
              "      <td>202500.0</td>\n",
              "      <td>406597.5</td>\n",
              "      <td>24700.5</td>\n",
              "      <td>...</td>\n",
              "      <td>0</td>\n",
              "      <td>0</td>\n",
              "      <td>0</td>\n",
              "      <td>0</td>\n",
              "      <td>0.0</td>\n",
              "      <td>0.0</td>\n",
              "      <td>0.0</td>\n",
              "      <td>0.0</td>\n",
              "      <td>0.0</td>\n",
              "      <td>1.0</td>\n",
              "    </tr>\n",
              "    <tr>\n",
              "      <th>1</th>\n",
              "      <td>100003</td>\n",
              "      <td>0</td>\n",
              "      <td>Cash loans</td>\n",
              "      <td>F</td>\n",
              "      <td>N</td>\n",
              "      <td>N</td>\n",
              "      <td>0</td>\n",
              "      <td>270000.0</td>\n",
              "      <td>1293502.5</td>\n",
              "      <td>35698.5</td>\n",
              "      <td>...</td>\n",
              "      <td>0</td>\n",
              "      <td>0</td>\n",
              "      <td>0</td>\n",
              "      <td>0</td>\n",
              "      <td>0.0</td>\n",
              "      <td>0.0</td>\n",
              "      <td>0.0</td>\n",
              "      <td>0.0</td>\n",
              "      <td>0.0</td>\n",
              "      <td>0.0</td>\n",
              "    </tr>\n",
              "    <tr>\n",
              "      <th>2</th>\n",
              "      <td>100004</td>\n",
              "      <td>0</td>\n",
              "      <td>Revolving loans</td>\n",
              "      <td>M</td>\n",
              "      <td>Y</td>\n",
              "      <td>Y</td>\n",
              "      <td>0</td>\n",
              "      <td>67500.0</td>\n",
              "      <td>135000.0</td>\n",
              "      <td>6750.0</td>\n",
              "      <td>...</td>\n",
              "      <td>0</td>\n",
              "      <td>0</td>\n",
              "      <td>0</td>\n",
              "      <td>0</td>\n",
              "      <td>0.0</td>\n",
              "      <td>0.0</td>\n",
              "      <td>0.0</td>\n",
              "      <td>0.0</td>\n",
              "      <td>0.0</td>\n",
              "      <td>0.0</td>\n",
              "    </tr>\n",
              "    <tr>\n",
              "      <th>3</th>\n",
              "      <td>100006</td>\n",
              "      <td>0</td>\n",
              "      <td>Cash loans</td>\n",
              "      <td>F</td>\n",
              "      <td>N</td>\n",
              "      <td>Y</td>\n",
              "      <td>0</td>\n",
              "      <td>135000.0</td>\n",
              "      <td>312682.5</td>\n",
              "      <td>29686.5</td>\n",
              "      <td>...</td>\n",
              "      <td>0</td>\n",
              "      <td>0</td>\n",
              "      <td>0</td>\n",
              "      <td>0</td>\n",
              "      <td>NaN</td>\n",
              "      <td>NaN</td>\n",
              "      <td>NaN</td>\n",
              "      <td>NaN</td>\n",
              "      <td>NaN</td>\n",
              "      <td>NaN</td>\n",
              "    </tr>\n",
              "    <tr>\n",
              "      <th>4</th>\n",
              "      <td>100007</td>\n",
              "      <td>0</td>\n",
              "      <td>Cash loans</td>\n",
              "      <td>M</td>\n",
              "      <td>N</td>\n",
              "      <td>Y</td>\n",
              "      <td>0</td>\n",
              "      <td>121500.0</td>\n",
              "      <td>513000.0</td>\n",
              "      <td>21865.5</td>\n",
              "      <td>...</td>\n",
              "      <td>0</td>\n",
              "      <td>0</td>\n",
              "      <td>0</td>\n",
              "      <td>0</td>\n",
              "      <td>0.0</td>\n",
              "      <td>0.0</td>\n",
              "      <td>0.0</td>\n",
              "      <td>0.0</td>\n",
              "      <td>0.0</td>\n",
              "      <td>0.0</td>\n",
              "    </tr>\n",
              "  </tbody>\n",
              "</table>\n",
              "<p>5 rows × 122 columns</p>\n",
              "</div>"
            ],
            "text/plain": [
              "   SK_ID_CURR  TARGET NAME_CONTRACT_TYPE CODE_GENDER FLAG_OWN_CAR  \\\n",
              "0      100002       1         Cash loans           M            N   \n",
              "1      100003       0         Cash loans           F            N   \n",
              "2      100004       0    Revolving loans           M            Y   \n",
              "3      100006       0         Cash loans           F            N   \n",
              "4      100007       0         Cash loans           M            N   \n",
              "\n",
              "  FLAG_OWN_REALTY  CNT_CHILDREN  AMT_INCOME_TOTAL  AMT_CREDIT  AMT_ANNUITY  \\\n",
              "0               Y             0          202500.0    406597.5      24700.5   \n",
              "1               N             0          270000.0   1293502.5      35698.5   \n",
              "2               Y             0           67500.0    135000.0       6750.0   \n",
              "3               Y             0          135000.0    312682.5      29686.5   \n",
              "4               Y             0          121500.0    513000.0      21865.5   \n",
              "\n",
              "   ...  FLAG_DOCUMENT_18 FLAG_DOCUMENT_19 FLAG_DOCUMENT_20 FLAG_DOCUMENT_21  \\\n",
              "0  ...                 0                0                0                0   \n",
              "1  ...                 0                0                0                0   \n",
              "2  ...                 0                0                0                0   \n",
              "3  ...                 0                0                0                0   \n",
              "4  ...                 0                0                0                0   \n",
              "\n",
              "  AMT_REQ_CREDIT_BUREAU_HOUR AMT_REQ_CREDIT_BUREAU_DAY  \\\n",
              "0                        0.0                       0.0   \n",
              "1                        0.0                       0.0   \n",
              "2                        0.0                       0.0   \n",
              "3                        NaN                       NaN   \n",
              "4                        0.0                       0.0   \n",
              "\n",
              "   AMT_REQ_CREDIT_BUREAU_WEEK  AMT_REQ_CREDIT_BUREAU_MON  \\\n",
              "0                         0.0                        0.0   \n",
              "1                         0.0                        0.0   \n",
              "2                         0.0                        0.0   \n",
              "3                         NaN                        NaN   \n",
              "4                         0.0                        0.0   \n",
              "\n",
              "   AMT_REQ_CREDIT_BUREAU_QRT  AMT_REQ_CREDIT_BUREAU_YEAR  \n",
              "0                        0.0                         1.0  \n",
              "1                        0.0                         0.0  \n",
              "2                        0.0                         0.0  \n",
              "3                        NaN                         NaN  \n",
              "4                        0.0                         0.0  \n",
              "\n",
              "[5 rows x 122 columns]"
            ]
          },
          "execution_count": 4,
          "metadata": {},
          "output_type": "execute_result"
        }
      ],
      "source": [
        "\n",
        "dataset.head()"
      ]
    },
    {
      "cell_type": "code",
      "execution_count": 5,
      "metadata": {
        "colab": {
          "base_uri": "https://localhost:8080/"
        },
        "id": "kOEVc6QXmuib",
        "outputId": "6fbac2e7-7224-4e78-c375-9393ebee4498"
      },
      "outputs": [
        {
          "data": {
            "text/plain": [
              "(307511, 121)"
            ]
          },
          "execution_count": 5,
          "metadata": {},
          "output_type": "execute_result"
        }
      ],
      "source": [
        "\n",
        "dataset=dataset.drop('SK_ID_CURR',axis=1)\n",
        "dataset.shape"
      ]
    },
    {
      "cell_type": "code",
      "execution_count": 6,
      "metadata": {
        "colab": {
          "base_uri": "https://localhost:8080/"
        },
        "id": "BWa-g8lXpUVX",
        "outputId": "3475f2a4-8b28-4b73-8edc-1219edc4efa1"
      },
      "outputs": [
        {
          "data": {
            "text/plain": [
              "TARGET                            0\n",
              "NAME_CONTRACT_TYPE                0\n",
              "CODE_GENDER                       0\n",
              "FLAG_OWN_CAR                      0\n",
              "FLAG_OWN_REALTY                   0\n",
              "                              ...  \n",
              "AMT_REQ_CREDIT_BUREAU_DAY     41519\n",
              "AMT_REQ_CREDIT_BUREAU_WEEK    41519\n",
              "AMT_REQ_CREDIT_BUREAU_MON     41519\n",
              "AMT_REQ_CREDIT_BUREAU_QRT     41519\n",
              "AMT_REQ_CREDIT_BUREAU_YEAR    41519\n",
              "Length: 121, dtype: int64"
            ]
          },
          "execution_count": 6,
          "metadata": {},
          "output_type": "execute_result"
        }
      ],
      "source": [
        "\n",
        "dataset.isna().sum()"
      ]
    },
    {
      "cell_type": "code",
      "execution_count": 7,
      "metadata": {
        "id": "iwg__6smjkb4"
      },
      "outputs": [],
      "source": [
        "# filling missing values with mean\n"
      ]
    },
    {
      "cell_type": "code",
      "execution_count": null,
      "metadata": {
        "colab": {
          "base_uri": "https://localhost:8080/"
        },
        "id": "Js3lP_KAm5-q",
        "outputId": "47ee7903-b106-4cf6-9bcf-c3d07b0d7da4"
      },
      "outputs": [],
      "source": []
    },
    {
      "cell_type": "code",
      "execution_count": 8,
      "metadata": {
        "id": "VAUpU1UdkcNk"
      },
      "outputs": [
        {
          "data": {
            "text/plain": [
              "TARGET\n",
              "0    282686\n",
              "1     24825\n",
              "Name: count, dtype: int64"
            ]
          },
          "execution_count": 8,
          "metadata": {},
          "output_type": "execute_result"
        }
      ],
      "source": [
        "\n",
        "dataset['TARGET'].value_counts()"
      ]
    },
    {
      "cell_type": "code",
      "execution_count": null,
      "metadata": {
        "id": "1tKYSnoSofkF"
      },
      "outputs": [],
      "source": []
    },
    {
      "cell_type": "code",
      "execution_count": 9,
      "metadata": {},
      "outputs": [
        {
          "name": "stdout",
          "output_type": "stream",
          "text": [
            "Encoded Employee data : \n",
            "        TARGET  CNT_CHILDREN  AMT_INCOME_TOTAL  AMT_CREDIT  AMT_ANNUITY  \\\n",
            "0            1             0          202500.0    406597.5      24700.5   \n",
            "1            0             0          270000.0   1293502.5      35698.5   \n",
            "2            0             0           67500.0    135000.0       6750.0   \n",
            "3            0             0          135000.0    312682.5      29686.5   \n",
            "4            0             0          121500.0    513000.0      21865.5   \n",
            "...        ...           ...               ...         ...          ...   \n",
            "307506       0             0          157500.0    254700.0      27558.0   \n",
            "307507       0             0           72000.0    269550.0      12001.5   \n",
            "307508       0             0          153000.0    677664.0      29979.0   \n",
            "307509       1             0          171000.0    370107.0      20205.0   \n",
            "307510       0             0          157500.0    675000.0      49117.5   \n",
            "\n",
            "        AMT_GOODS_PRICE  REGION_POPULATION_RELATIVE  DAYS_BIRTH  \\\n",
            "0              351000.0                    0.018801       -9461   \n",
            "1             1129500.0                    0.003541      -16765   \n",
            "2              135000.0                    0.010032      -19046   \n",
            "3              297000.0                    0.008019      -19005   \n",
            "4              513000.0                    0.028663      -19932   \n",
            "...                 ...                         ...         ...   \n",
            "307506         225000.0                    0.032561       -9327   \n",
            "307507         225000.0                    0.025164      -20775   \n",
            "307508         585000.0                    0.005002      -14966   \n",
            "307509         319500.0                    0.005313      -11961   \n",
            "307510         675000.0                    0.046220      -16856   \n",
            "\n",
            "        DAYS_EMPLOYED  DAYS_REGISTRATION  ...  WALLSMATERIAL_MODE_Mixed  \\\n",
            "0                -637            -3648.0  ...                       0.0   \n",
            "1               -1188            -1186.0  ...                       0.0   \n",
            "2                -225            -4260.0  ...                       0.0   \n",
            "3               -3039            -9833.0  ...                       0.0   \n",
            "4               -3038            -4311.0  ...                       0.0   \n",
            "...               ...                ...  ...                       ...   \n",
            "307506           -236            -8456.0  ...                       0.0   \n",
            "307507         365243            -4388.0  ...                       0.0   \n",
            "307508          -7921            -6737.0  ...                       0.0   \n",
            "307509          -4786            -2562.0  ...                       0.0   \n",
            "307510          -1262            -5128.0  ...                       0.0   \n",
            "\n",
            "        WALLSMATERIAL_MODE_Monolithic  WALLSMATERIAL_MODE_Others  \\\n",
            "0                                 0.0                        0.0   \n",
            "1                                 0.0                        0.0   \n",
            "2                                 0.0                        0.0   \n",
            "3                                 0.0                        0.0   \n",
            "4                                 0.0                        0.0   \n",
            "...                               ...                        ...   \n",
            "307506                            0.0                        0.0   \n",
            "307507                            0.0                        0.0   \n",
            "307508                            0.0                        0.0   \n",
            "307509                            0.0                        0.0   \n",
            "307510                            0.0                        0.0   \n",
            "\n",
            "        WALLSMATERIAL_MODE_Panel  WALLSMATERIAL_MODE_Stone, brick  \\\n",
            "0                            0.0                              1.0   \n",
            "1                            0.0                              0.0   \n",
            "2                            0.0                              0.0   \n",
            "3                            0.0                              0.0   \n",
            "4                            0.0                              0.0   \n",
            "...                          ...                              ...   \n",
            "307506                       0.0                              1.0   \n",
            "307507                       0.0                              1.0   \n",
            "307508                       1.0                              0.0   \n",
            "307509                       0.0                              1.0   \n",
            "307510                       1.0                              0.0   \n",
            "\n",
            "        WALLSMATERIAL_MODE_Wooden  WALLSMATERIAL_MODE_nan  \\\n",
            "0                             0.0                     0.0   \n",
            "1                             0.0                     0.0   \n",
            "2                             0.0                     1.0   \n",
            "3                             0.0                     1.0   \n",
            "4                             0.0                     1.0   \n",
            "...                           ...                     ...   \n",
            "307506                        0.0                     0.0   \n",
            "307507                        0.0                     0.0   \n",
            "307508                        0.0                     0.0   \n",
            "307509                        0.0                     0.0   \n",
            "307510                        0.0                     0.0   \n",
            "\n",
            "        EMERGENCYSTATE_MODE_No  EMERGENCYSTATE_MODE_Yes  \\\n",
            "0                          1.0                      0.0   \n",
            "1                          1.0                      0.0   \n",
            "2                          0.0                      0.0   \n",
            "3                          0.0                      0.0   \n",
            "4                          0.0                      0.0   \n",
            "...                        ...                      ...   \n",
            "307506                     1.0                      0.0   \n",
            "307507                     1.0                      0.0   \n",
            "307508                     1.0                      0.0   \n",
            "307509                     1.0                      0.0   \n",
            "307510                     1.0                      0.0   \n",
            "\n",
            "        EMERGENCYSTATE_MODE_nan  \n",
            "0                           0.0  \n",
            "1                           0.0  \n",
            "2                           1.0  \n",
            "3                           1.0  \n",
            "4                           1.0  \n",
            "...                         ...  \n",
            "307506                      0.0  \n",
            "307507                      0.0  \n",
            "307508                      0.0  \n",
            "307509                      0.0  \n",
            "307510                      0.0  \n",
            "\n",
            "[307511 rows x 251 columns]\n"
          ]
        }
      ],
      "source": [
        "categorical_columns = dataset.select_dtypes(include=['object','string']).columns.tolist()\n",
        "\n",
        "#Initialize OneHotEncoder\n",
        "encoder = OneHotEncoder(sparse_output=False)\n",
        "\n",
        "# Apply one-hot encoding to the categorical columns\n",
        "one_hot_encoded = encoder.fit_transform(dataset[categorical_columns])\n",
        "\n",
        "#Create a DataFrame with the one-hot encoded columns\n",
        "#We use get_feature_names_out() to get the column names for the encoded data\n",
        "one_hot_df = pd.DataFrame(one_hot_encoded, columns=encoder.get_feature_names_out(categorical_columns))\n",
        "\n",
        "# Concatenate the one-hot encoded dataframe with the original dataframe\n",
        "df_encoded = pd.concat([dataset, one_hot_df], axis=1)\n",
        "\n",
        "# Drop the original categorical columns\n",
        "df_encoded = df_encoded.drop(categorical_columns, axis=1)\n",
        "\n",
        "# Display the resulting dataframe\n",
        "print(f\"Encoded Employee data : \\n{df_encoded}\")"
      ]
    },
    {
      "cell_type": "code",
      "execution_count": 10,
      "metadata": {},
      "outputs": [],
      "source": [
        "dataset=df_encoded.fillna(0)\n"
      ]
    },
    {
      "cell_type": "code",
      "execution_count": 11,
      "metadata": {},
      "outputs": [
        {
          "name": "stdout",
          "output_type": "stream",
          "text": [
            "Jumlah fitur sebelum reduksi: 251\n",
            "Jumlah fitur setelah reduksi: 115\n"
          ]
        }
      ],
      "source": [
        "from sklearn.feature_selection import VarianceThreshold\n",
        "\n",
        "# Mengatur threshold untuk VarianceThreshold\n",
        "# Variance yang rendah berarti data tersebut kurang variatif, dan mungkin tidak berguna\n",
        "selector = VarianceThreshold(threshold=0.02)\n",
        "\n",
        "# Fit dan transform data\n",
        "dataset_reduced = selector.fit_transform(dataset)\n",
        "\n",
        "# Mengubah kembali ke DataFrame\n",
        "dataset_reduced = pd.DataFrame(dataset_reduced, columns=dataset.columns[selector.get_support(indices=True)])\n",
        "\n",
        "# Menampilkan jumlah fitur sebelum dan sesudah\n",
        "print(f\"Jumlah fitur sebelum reduksi: {dataset.shape[1]}\")\n",
        "print(f\"Jumlah fitur setelah reduksi: {dataset_reduced.shape[1]}\")\n",
        "\n",
        "# Mengganti dataset lama dengan yang baru\n",
        "dataset = dataset_reduced\n",
        "\n",
        "\n"
      ]
    },
    {
      "cell_type": "code",
      "execution_count": 12,
      "metadata": {},
      "outputs": [
        {
          "data": {
            "text/plain": [
              "TARGET                             0\n",
              "CNT_CHILDREN                       0\n",
              "AMT_INCOME_TOTAL                   0\n",
              "AMT_CREDIT                         0\n",
              "AMT_ANNUITY                        0\n",
              "                                  ..\n",
              "WALLSMATERIAL_MODE_Panel           0\n",
              "WALLSMATERIAL_MODE_Stone, brick    0\n",
              "WALLSMATERIAL_MODE_nan             0\n",
              "EMERGENCYSTATE_MODE_No             0\n",
              "EMERGENCYSTATE_MODE_nan            0\n",
              "Length: 115, dtype: int64"
            ]
          },
          "execution_count": 12,
          "metadata": {},
          "output_type": "execute_result"
        }
      ],
      "source": [
        "dataset.isna().sum()"
      ]
    },
    {
      "cell_type": "markdown",
      "metadata": {
        "id": "3Ib6drIfoGym"
      },
      "source": [
        "### Train Test Split"
      ]
    },
    {
      "cell_type": "code",
      "execution_count": 24,
      "metadata": {
        "id": "X9Fdr5ktkr5O"
      },
      "outputs": [],
      "source": [
        "y = dataset.iloc[:, 0].values\n",
        "X = dataset.iloc[:, 1:115].values"
      ]
    },
    {
      "cell_type": "code",
      "execution_count": 25,
      "metadata": {
        "id": "_XooWLTcoK5u"
      },
      "outputs": [],
      "source": [
        "\n",
        "X_train, X_test, y_train, y_test = train_test_split(X, y,\n",
        "                                                    test_size=0.2,\n",
        "                                                    random_state=0,\n",
        "                                                    stratify=y)"
      ]
    },
    {
      "cell_type": "code",
      "execution_count": 26,
      "metadata": {
        "id": "K4tOqu1WoPNv"
      },
      "outputs": [],
      "source": [
        "sc = StandardScaler()\n",
        "X_train = sc.fit_transform(X_train)\n",
        "X_test = sc.transform(X_test)"
      ]
    },
    {
      "cell_type": "markdown",
      "metadata": {
        "id": "07xCSknToWAs"
      },
      "source": [
        "### Risk Model building"
      ]
    },
    {
      "cell_type": "code",
      "execution_count": 27,
      "metadata": {
        "id": "TGTPbyy_oR8t"
      },
      "outputs": [
        {
          "name": "stderr",
          "output_type": "stream",
          "text": [
            "c:\\Anaconda3\\envs\\cv\\Lib\\site-packages\\sklearn\\linear_model\\_logistic.py:460: ConvergenceWarning: lbfgs failed to converge (status=1):\n",
            "STOP: TOTAL NO. of ITERATIONS REACHED LIMIT.\n",
            "\n",
            "Increase the number of iterations (max_iter) or scale the data as shown in:\n",
            "    https://scikit-learn.org/stable/modules/preprocessing.html\n",
            "Please also refer to the documentation for alternative solver options:\n",
            "    https://scikit-learn.org/stable/modules/linear_model.html#logistic-regression\n",
            "  n_iter_i = _check_optimize_result(\n"
          ]
        }
      ],
      "source": [
        "classifier =  LogisticRegression()\n",
        "classifier.fit(X_train, y_train)\n",
        "y_pred = classifier.predict(X_test)"
      ]
    },
    {
      "cell_type": "code",
      "execution_count": null,
      "metadata": {
        "colab": {
          "base_uri": "https://localhost:8080/"
        },
        "id": "68MO2J0TocVk",
        "outputId": "551095a3-4fcb-44fa-ce4e-2423c253ce3f"
      },
      "outputs": [],
      "source": []
    },
    {
      "cell_type": "markdown",
      "metadata": {
        "id": "I2_P-KEioc3g"
      },
      "source": [
        "### Model *performance*"
      ]
    },
    {
      "cell_type": "code",
      "execution_count": 28,
      "metadata": {
        "colab": {
          "base_uri": "https://localhost:8080/"
        },
        "id": "9HKoij5MizM9",
        "outputId": "910a9e5f-8902-444c-82d8-b451033cfb78"
      },
      "outputs": [
        {
          "name": "stdout",
          "output_type": "stream",
          "text": [
            "[[56526    12]\n",
            " [ 4954    11]]\n"
          ]
        }
      ],
      "source": [
        "print(confusion_matrix(y_test,y_pred))"
      ]
    },
    {
      "cell_type": "code",
      "execution_count": 29,
      "metadata": {
        "colab": {
          "base_uri": "https://localhost:8080/"
        },
        "id": "pFMF7rivi11c",
        "outputId": "5b3eee0a-4339-4608-de0d-e649c0a4716a"
      },
      "outputs": [
        {
          "name": "stdout",
          "output_type": "stream",
          "text": [
            "0.9192559712534348\n"
          ]
        }
      ],
      "source": [
        "print(accuracy_score(y_test, y_pred))"
      ]
    },
    {
      "cell_type": "code",
      "execution_count": 30,
      "metadata": {},
      "outputs": [
        {
          "data": {
            "text/plain": [
              "-0.08803614049273478"
            ]
          },
          "execution_count": 30,
          "metadata": {},
          "output_type": "execute_result"
        }
      ],
      "source": [
        "r2_score(y_test,y_pred)"
      ]
    },
    {
      "cell_type": "code",
      "execution_count": 31,
      "metadata": {},
      "outputs": [
        {
          "data": {
            "text/plain": [
              "0.08074402874656521"
            ]
          },
          "execution_count": 31,
          "metadata": {},
          "output_type": "execute_result"
        }
      ],
      "source": [
        "mean_squared_error(y_test,y_pred) \n",
        " "
      ]
    },
    {
      "cell_type": "code",
      "execution_count": 32,
      "metadata": {
        "colab": {
          "base_uri": "https://localhost:8080/"
        },
        "id": "b5eyiGp9xFam",
        "outputId": "9b2a8011-41a1-4457-e919-0f46d9f876bb"
      },
      "outputs": [
        {
          "data": {
            "text/plain": [
              "array([[0.96253967, 0.03746033],\n",
              "       [0.93714906, 0.06285094],\n",
              "       [0.89593005, 0.10406995],\n",
              "       ...,\n",
              "       [0.91358809, 0.08641191],\n",
              "       [0.86797155, 0.13202845],\n",
              "       [0.93503382, 0.06496618]])"
            ]
          },
          "execution_count": 32,
          "metadata": {},
          "output_type": "execute_result"
        }
      ],
      "source": [
        "predictions = classifier.predict_proba(X_test)\n",
        "predictions"
      ]
    },
    {
      "cell_type": "code",
      "execution_count": 33,
      "metadata": {
        "colab": {
          "base_uri": "https://localhost:8080/",
          "height": 206
        },
        "id": "QZZCWhsipijJ",
        "outputId": "79153e53-8089-4dc0-e874-a10b18e2576d"
      },
      "outputs": [
        {
          "data": {
            "text/html": [
              "<div>\n",
              "<style scoped>\n",
              "    .dataframe tbody tr th:only-of-type {\n",
              "        vertical-align: middle;\n",
              "    }\n",
              "\n",
              "    .dataframe tbody tr th {\n",
              "        vertical-align: top;\n",
              "    }\n",
              "\n",
              "    .dataframe thead th {\n",
              "        text-align: right;\n",
              "    }\n",
              "</style>\n",
              "<table border=\"1\" class=\"dataframe\">\n",
              "  <thead>\n",
              "    <tr style=\"text-align: right;\">\n",
              "      <th></th>\n",
              "      <th>Actual Outcome</th>\n",
              "      <th>prob_0</th>\n",
              "      <th>prob_1</th>\n",
              "      <th>predicted_TARGET</th>\n",
              "    </tr>\n",
              "  </thead>\n",
              "  <tbody>\n",
              "    <tr>\n",
              "      <th>61498</th>\n",
              "      <td>0.0</td>\n",
              "      <td>0.684214</td>\n",
              "      <td>0.315786</td>\n",
              "      <td>0.0</td>\n",
              "    </tr>\n",
              "    <tr>\n",
              "      <th>61499</th>\n",
              "      <td>0.0</td>\n",
              "      <td>0.939933</td>\n",
              "      <td>0.060067</td>\n",
              "      <td>0.0</td>\n",
              "    </tr>\n",
              "    <tr>\n",
              "      <th>61500</th>\n",
              "      <td>1.0</td>\n",
              "      <td>0.913588</td>\n",
              "      <td>0.086412</td>\n",
              "      <td>0.0</td>\n",
              "    </tr>\n",
              "    <tr>\n",
              "      <th>61501</th>\n",
              "      <td>0.0</td>\n",
              "      <td>0.867972</td>\n",
              "      <td>0.132028</td>\n",
              "      <td>0.0</td>\n",
              "    </tr>\n",
              "    <tr>\n",
              "      <th>61502</th>\n",
              "      <td>0.0</td>\n",
              "      <td>0.935034</td>\n",
              "      <td>0.064966</td>\n",
              "      <td>0.0</td>\n",
              "    </tr>\n",
              "  </tbody>\n",
              "</table>\n",
              "</div>"
            ],
            "text/plain": [
              "       Actual Outcome    prob_0    prob_1  predicted_TARGET\n",
              "61498             0.0  0.684214  0.315786               0.0\n",
              "61499             0.0  0.939933  0.060067               0.0\n",
              "61500             1.0  0.913588  0.086412               0.0\n",
              "61501             0.0  0.867972  0.132028               0.0\n",
              "61502             0.0  0.935034  0.064966               0.0"
            ]
          },
          "execution_count": 33,
          "metadata": {},
          "output_type": "execute_result"
        }
      ],
      "source": [
        "\n",
        "\n",
        "df_prediction_prob = pd.DataFrame(predictions, columns = ['prob_0', 'prob_1'])\n",
        "df_prediction_target = pd.DataFrame(classifier.predict(X_test), columns = ['predicted_TARGET'])\n",
        "df_test_dataset = pd.DataFrame(y_test,columns= ['Actual Outcome'])\n",
        "\n",
        "dfx=pd.concat([df_test_dataset, df_prediction_prob, df_prediction_target], axis=1)\n",
        "\n",
        "\n",
        "\n",
        "dfx.tail()"
      ]
    },
    {
      "cell_type": "code",
      "execution_count": 34,
      "metadata": {},
      "outputs": [
        {
          "data": {
            "text/plain": [
              "predicted_TARGET\n",
              "0.0    61480\n",
              "1.0       23\n",
              "Name: count, dtype: int64"
            ]
          },
          "execution_count": 34,
          "metadata": {},
          "output_type": "execute_result"
        }
      ],
      "source": [
        "df_prediction_target['predicted_TARGET'].value_counts()"
      ]
    },
    {
      "cell_type": "markdown",
      "metadata": {
        "id": "MGdYvDbIDVny"
      },
      "source": [
        "### Coding ends here!"
      ]
    }
  ],
  "metadata": {
    "colab": {
      "provenance": [],
      "toc_visible": true
    },
    "kernelspec": {
      "display_name": "Python 3",
      "name": "python3"
    },
    "language_info": {
      "codemirror_mode": {
        "name": "ipython",
        "version": 3
      },
      "file_extension": ".py",
      "mimetype": "text/x-python",
      "name": "python",
      "nbconvert_exporter": "python",
      "pygments_lexer": "ipython3",
      "version": "3.11.5"
    }
  },
  "nbformat": 4,
  "nbformat_minor": 0
}
